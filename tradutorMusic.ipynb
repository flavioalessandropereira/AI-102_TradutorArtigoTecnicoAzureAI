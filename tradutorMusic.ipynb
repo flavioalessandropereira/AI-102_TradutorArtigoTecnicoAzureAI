{
  "nbformat": 4,
  "nbformat_minor": 0,
  "metadata": {
    "colab": {
      "provenance": [],
      "authorship_tag": "ABX9TyOfPmXt/g68dq27d+ZNDDp6",
      "include_colab_link": true
    },
    "kernelspec": {
      "name": "python3",
      "display_name": "Python 3"
    },
    "language_info": {
      "name": "python"
    }
  },
  "cells": [
    {
      "cell_type": "markdown",
      "metadata": {
        "id": "view-in-github",
        "colab_type": "text"
      },
      "source": [
        "<a href=\"https://colab.research.google.com/github/flavioalessandropereira/AI-102_TradutorArtigoTecnicoAzureAI/blob/main/tradutorMusic.ipynb\" target=\"_parent\"><img src=\"https://colab.research.google.com/assets/colab-badge.svg\" alt=\"Open In Colab\"/></a>"
      ]
    },
    {
      "cell_type": "code",
      "execution_count": 9,
      "metadata": {
        "colab": {
          "base_uri": "https://localhost:8080/"
        },
        "id": "SfaxM8Wih4LV",
        "outputId": "e03ac5ad-5ef0-4e6a-a9f5-b24261f46783"
      },
      "outputs": [
        {
          "output_type": "stream",
          "name": "stdout",
          "text": [
            "Requirement already satisfied: requests in /usr/local/lib/python3.10/dist-packages (2.32.3)\n",
            "Requirement already satisfied: python-docx in /usr/local/lib/python3.10/dist-packages (1.1.2)\n",
            "Requirement already satisfied: charset-normalizer<4,>=2 in /usr/local/lib/python3.10/dist-packages (from requests) (3.4.0)\n",
            "Requirement already satisfied: idna<4,>=2.5 in /usr/local/lib/python3.10/dist-packages (from requests) (3.10)\n",
            "Requirement already satisfied: urllib3<3,>=1.21.1 in /usr/local/lib/python3.10/dist-packages (from requests) (2.2.3)\n",
            "Requirement already satisfied: certifi>=2017.4.17 in /usr/local/lib/python3.10/dist-packages (from requests) (2024.8.30)\n",
            "Requirement already satisfied: lxml>=3.1.0 in /usr/local/lib/python3.10/dist-packages (from python-docx) (5.3.0)\n",
            "Requirement already satisfied: typing-extensions>=4.9.0 in /usr/local/lib/python3.10/dist-packages (from python-docx) (4.12.2)\n"
          ]
        }
      ],
      "source": [
        "!pip install requests python-docx\n"
      ]
    },
    {
      "cell_type": "markdown",
      "source": [
        "Programar ou gere código com IA"
      ],
      "metadata": {
        "id": "tsz6alqGma9r"
      }
    },
    {
      "cell_type": "code",
      "source": [
        "import requests\n",
        "from docx import Document\n",
        "import os\n",
        "\n",
        "subscription_key = \"7MEnOjYjkdd0BEfxwhK9uM6osKdskk92H33GuJbFO8YVz5CdZ24GJQQJ99AKAC8vTInXJ3w3AAAbACOGlXaO\"\n",
        "endpoint = \"https://api.cognitive.microsofttranslator.com\"\n",
        "location = \"westus2\"\n",
        "\n",
        "language_destination = \"pt-br\"\n",
        "\n",
        "def translator_text(text, target_language):\n",
        "    path = '/translate'\n",
        "    constructed_url = endpoint + path\n",
        "    headers = {\n",
        "        'Ocp-Apim-Subscription-Key': subscription_key,\n",
        "        'Ocp-Apim-Subscription-Region': location,\n",
        "        'Content-type': 'application/json',\n",
        "        'X-ClientTraceId': str(os.urandom(16))\n",
        "    }\n",
        "\n",
        "\n",
        "    body = [{\n",
        "        'text': text\n",
        "    }]\n",
        "    params = {\n",
        "        'api-version': '3.0',\n",
        "        'from': 'en',\n",
        "        'to': target_language\n",
        "    }\n",
        "    request = requests.post(constructed_url, params=params, headers=headers, json=body)\n",
        "    response = request.json()\n",
        "    return response[0][\"translations\"][0][\"text\"]"
      ],
      "metadata": {
        "id": "Up46GcQcmjxU"
      },
      "execution_count": 10,
      "outputs": []
    },
    {
      "cell_type": "code",
      "source": [
        "translator_text('I will live a thousand million lives (ooh)', language_destination)"
      ],
      "metadata": {
        "colab": {
          "base_uri": "https://localhost:8080/",
          "height": 36
        },
        "id": "AE2EHeRgmoGu",
        "outputId": "4a01970d-687d-41ad-c2f4-df71531f43fe"
      },
      "execution_count": 11,
      "outputs": [
        {
          "output_type": "execute_result",
          "data": {
            "text/plain": [
              "'Eu vou viver mil milhões de vidas (ooh)'"
            ],
            "application/vnd.google.colaboratory.intrinsic+json": {
              "type": "string"
            }
          },
          "metadata": {},
          "execution_count": 11
        }
      ]
    },
    {
      "cell_type": "code",
      "source": [
        "def translate_document(path):\n",
        "    document = Document(path)\n",
        "    full_text = []\n",
        "    for paragraph in document.paragraphs:\n",
        "        translated_text = translator_text(paragraph.text, language_destination)\n",
        "        full_text.append(translated_text)\n",
        "\n",
        "\n",
        "    translated_doc = Document()\n",
        "    for line in full_text:\n",
        "      print(line)\n",
        "      translated_doc.add_paragraph(line)\n",
        "\n",
        "    path_translated = path.replace('.docx', f\"_{language_destination}.docx\")\n",
        "    translated_doc.save(path_translated)\n",
        "\n",
        "input_file = '/content/musica_bones.docx'\n",
        "translate_document(input_file)\n"
      ],
      "metadata": {
        "colab": {
          "base_uri": "https://localhost:8080/"
        },
        "id": "2IsOvRCFufVX",
        "outputId": "48667d93-5154-45a6-e47e-dd021b995b96"
      },
      "execution_count": 15,
      "outputs": [
        {
          "output_type": "stream",
          "name": "stdout",
          "text": [
            "Me dê, me dê, me dê algum tempo para pensar\n",
            "Eu estou no banheiro, olhando para mim\n",
            "Rosto no espelho é tudo que eu preciso (ooh)\n",
            "Espere até que o ceifador tire minha vida\n",
            "Nunca vai me tirar vivo\n",
            "Eu vou viver mil milhões de vidas (ooh)\n",
            "Minha paciência está diminuindo\n",
            "Isso é divertido?\n",
            "Nossa paciência está diminuindo\n",
            "Isso é divertido?\n",
            "Eu-eu-eu tenho esse sentimento, sim, você sabe\n",
            "Onde eu estou perdendo todo o controle\n",
            "Porque há magia em meus ossos\n",
            "Eu-eu-eu tenho esse sentimento em minha alma\n",
            "Vá em frente e jogue suas pedras\n",
            "Porque há magia em meus ossos\n",
            "Brincando com uma banana de dinamite\n",
            "Nunca houve cinza em preto e branco\n",
            "Nunca houve errado até que houvesse certo (ooh, oh)\n",
            "Sentindo-se como uma pedra arremessada\n",
            "Vendo todos os abutres circulando\n",
            "Queimando nas chamas em que estou trabalhando\n",
            "Virando em uma cama que está escurecendo\n",
            "Minha paciência está diminuindo\n",
            "Isso é divertido?\n",
            "Nossa paciência está diminuindo\n",
            "Isso é divertido?\n",
            "Eu-eu-eu tenho esse sentimento, sim, você sabe\n",
            "Onde eu estou perdendo todo o controle\n",
            "Porque há magia em meus ossos (em meus ossos)\n",
            "Eu-eu-eu tenho esse sentimento em minha alma\n",
            "Vá em frente e jogue suas pedras\n",
            "Porque há magia em meus ossos\n",
            "Porque há magia em meus ossos\n",
            "Olhe no espelho da minha mente\n",
            "Virando as páginas da minha vida\n",
            "Andando pelo caminho que tantos andaram um milhão de vezes\n",
            "abafar as vozes no ar\n",
            "Deixando aqueles que nunca se importaram\n",
            "Pegando os pedaços e construindo para o céu\n",
            "Minha paciência está diminuindo\n",
            "Isso é divertido?\n",
            "Minha paciência está diminuindo\n",
            "Isso é divertido?\n",
            "Eu-eu-eu tenho esse sentimento, sim, você sabe\n",
            "Onde eu estou perdendo todo o controle\n",
            "Porque há magia em meus ossos (magia em meus ossos)\n",
            "Eu-eu-eu tenho esse sentimento na minha alma (alma)\n",
            "Vá em frente e jogue suas pedras\n",
            "Porque há magia em\n",
            "Lá se vai minha mente (eu-eu-eu)\n",
            "Não se importe\n",
            "Lá se vai minha mente (lá vai, lá vai)\n",
            "Lá se vai minha mente (eu-eu-eu)\n",
            "Não se importe (lá vai)\n",
            "Lá se vai minha mente\n",
            "Porque há magia em meus ossos\n"
          ]
        }
      ]
    }
  ]
}